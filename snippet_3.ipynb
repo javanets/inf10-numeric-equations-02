{
 "cells": [
  {
   "cell_type": "markdown",
   "metadata": {},
   "source": [
    "## Настройте окружение перед началом работы"
   ]
  },
  {
   "cell_type": "code",
   "execution_count": null,
   "metadata": {
    "slideshow": {
     "slide_type": "skip"
    }
   },
   "outputs": [],
   "source": [
    "# Импортируйте необходимые библиотеки:\n",
    "\n",
    "import numpy as np\n",
    "import matplotlib\n",
    "import matplotlib.pyplot as plt"
   ]
  },
  {
   "cell_type": "code",
   "execution_count": null,
   "metadata": {},
   "outputs": [],
   "source": [
    "# Настройте отображение графиков:\n",
    "\n",
    "from pylab import rcParams\n",
    "from matplotlib import rc\n",
    "\n",
    "rcParams['figure.figsize'] = 20, 12\n",
    "rc('font',**{'family':'DejaVu Sans Mono', 'size': 16})"
   ]
  },
  {
   "cell_type": "markdown",
   "metadata": {
    "slideshow": {
     "slide_type": "slide"
    }
   },
   "source": [
    "## Задание 3.1 (`snippet_3.ipynb`)\n",
    "\n",
    "**Методом трапеций** (учебник, ч.2, стр. 285) приближённо найдите площадь под кривой, заданной уравнением\n",
    "\n",
    "$$\n",
    "y = -x^3 + 20 x^2 + 30 x - 3\n",
    "$$\n",
    "\n",
    "на отрезке $x \\in [0; 20]$, с шагом дискретизации $h = 0,\\!001$."
   ]
  },
  {
   "cell_type": "code",
   "execution_count": null,
   "metadata": {},
   "outputs": [],
   "source": [
    "# Выполните задание 3.1 в этой ячейке\n",
    "\n"
   ]
  },
  {
   "cell_type": "markdown",
   "metadata": {
    "slideshow": {
     "slide_type": "slide"
    }
   },
   "source": [
    "## Задание 3.2\n",
    "\n",
    "Постройте зависимость длины кривой, заданной уравнением\n",
    "$$\n",
    "y = -x^3 + 20 x^2 + 30 x - 3\n",
    "$$\n",
    "\n",
    "вычисленной приближённо на отрезке $[0; 20]$, от количества интервалов разбиения $N$ отрезка $[0; 20]$.\n",
    "\n",
    "Охарактеризуйте поведение полученного графика с ростом числа $N$."
   ]
  },
  {
   "cell_type": "code",
   "execution_count": null,
   "metadata": {},
   "outputs": [],
   "source": [
    "# Выполните задание 3.2 в этой ячейке\n",
    "\n"
   ]
  },
  {
   "cell_type": "markdown",
   "metadata": {
    "slideshow": {
     "slide_type": "slide"
    }
   },
   "source": [
    "## Задание 3.3\n",
    "\n",
    "Постройте зависимость площади под кривой, заданной уравнением\n",
    "$$\n",
    "y = -x^3 + 20 x^2 + 30 x - 3\n",
    "$$\n",
    "\n",
    "вычисленной приближённо на отрезке $[0; 20]$, от количества интервалов разбиения $N$ отрезка.\n",
    "\n",
    "Охарактеризуйте поведение полученного графика с ростом числа $N$ по отдельности для метода прямоугольников и для метода трапеций. Что вы наблюдаете?"
   ]
  },
  {
   "cell_type": "code",
   "execution_count": null,
   "metadata": {},
   "outputs": [],
   "source": [
    "# Выполните задание 3.3 в этой ячейке\n",
    "\n"
   ]
  }
 ],
 "metadata": {
  "kernelspec": {
   "display_name": "Python 3",
   "language": "python",
   "name": "python3"
  },
  "language_info": {
   "codemirror_mode": {
    "name": "ipython",
    "version": 3
   },
   "file_extension": ".py",
   "mimetype": "text/x-python",
   "name": "python",
   "nbconvert_exporter": "python",
   "pygments_lexer": "ipython3",
   "version": "3.7.4"
  },
  "livereveal": {
   "transition": "none"
  }
 },
 "nbformat": 4,
 "nbformat_minor": 2
}
