{
 "cells": [
  {
   "cell_type": "markdown",
   "metadata": {},
   "source": [
    "## Настройте окружение перед началом работы"
   ]
  },
  {
   "cell_type": "code",
   "execution_count": null,
   "metadata": {
    "slideshow": {
     "slide_type": "skip"
    }
   },
   "outputs": [],
   "source": [
    "# Импортируйте необходимые библиотеки:\n",
    "\n",
    "import numpy as np\n",
    "import matplotlib\n",
    "import matplotlib.pyplot as plt"
   ]
  },
  {
   "cell_type": "code",
   "execution_count": null,
   "metadata": {},
   "outputs": [],
   "source": [
    "# Настройте отображение графиков:\n",
    "\n",
    "from pylab import rcParams\n",
    "from matplotlib import rc\n",
    "\n",
    "rcParams['figure.figsize'] = 20, 12\n",
    "rc('font',**{'family':'DejaVu Sans Mono', 'size': 16})"
   ]
  },
  {
   "cell_type": "markdown",
   "metadata": {
    "slideshow": {
     "slide_type": "slide"
    }
   },
   "source": [
    "## Задание 1.1 (`snippet_1.ipynb`)\n",
    "\n",
    "Найдите длину ломаной, заданной двумя параллельными списками её $x$&ndash; и $y$&ndash; координат (см. следующую ячейку)."
   ]
  },
  {
   "cell_type": "code",
   "execution_count": null,
   "metadata": {
    "slideshow": {
     "slide_type": "fragment"
    }
   },
   "outputs": [],
   "source": [
    "x = [1, 3, 5, 8, 9, 12, 14, 18, 20, 22, 24, 27, 32]\n",
    "y = [5, 4, 2, 1, 8, 13, 7, 5, 3, 12, 14, 18, 21]\n",
    "\n",
    "plt.plot(x, y, linewidth=4)"
   ]
  },
  {
   "cell_type": "code",
   "execution_count": null,
   "metadata": {
    "slideshow": {
     "slide_type": "slide"
    }
   },
   "outputs": [],
   "source": [
    "# Выполните задание 1.1 в этой ячейке\n",
    "\n"
   ]
  },
  {
   "cell_type": "markdown",
   "metadata": {
    "slideshow": {
     "slide_type": "slide"
    }
   },
   "source": [
    "## Задание 1.2 (`snippet_1_2.ipynb`)\n",
    "\n",
    "1. Постройте график функции\n",
    "$$\n",
    "f(x) = -x^3 + 20 x^2 + 30 x - 3 \\quad \\text{при } x \\in [0; 20].\n",
    "$$\n",
    " &nbsp;\n",
    "2. Приближённо найдите длину кривой, заданной уравнением $y = f(x)$, на отрезке $x \\in [0; 20]$, с шагом дискретизации $h = 0,\\!001$."
   ]
  },
  {
   "cell_type": "code",
   "execution_count": null,
   "metadata": {
    "slideshow": {
     "slide_type": "slide"
    }
   },
   "outputs": [],
   "source": [
    "# Выполните задание 1.2 в этой ячейке\n",
    "\n"
   ]
  },
  {
   "cell_type": "markdown",
   "metadata": {
    "slideshow": {
     "slide_type": "slide"
    }
   },
   "source": [
    "## Задание 1.3\n",
    "\n",
    "1. Постройте график верхней полуокружности единичной окружности:\n",
    "$$\n",
    "y = \\sqrt{1 - x^2}\n",
    "$$\n",
    " &nbsp;\n",
    "\n",
    "2. Приближённо найдите длину данной кривой с различными шагами дискретизации $h = 10^{-2}, 10^{-3}, \\dots 10^{-8}$. \n",
    " \n",
    " &nbsp;\n",
    "\n",
    "3. Какие числа получаются?"
   ]
  },
  {
   "cell_type": "code",
   "execution_count": null,
   "metadata": {},
   "outputs": [],
   "source": [
    "# Выполните задание 1.3 в этой ячейке\n",
    "\n"
   ]
  }
 ],
 "metadata": {
  "kernelspec": {
   "display_name": "Python 3",
   "language": "python",
   "name": "python3"
  },
  "language_info": {
   "codemirror_mode": {
    "name": "ipython",
    "version": 3
   },
   "file_extension": ".py",
   "mimetype": "text/x-python",
   "name": "python",
   "nbconvert_exporter": "python",
   "pygments_lexer": "ipython3",
   "version": "3.7.4"
  },
  "livereveal": {
   "transition": "none"
  }
 },
 "nbformat": 4,
 "nbformat_minor": 2
}
