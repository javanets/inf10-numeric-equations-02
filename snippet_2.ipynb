{
 "cells": [
  {
   "cell_type": "markdown",
   "metadata": {},
   "source": [
    "## Настройте окружение перед началом работы"
   ]
  },
  {
   "cell_type": "code",
   "execution_count": null,
   "metadata": {
    "slideshow": {
     "slide_type": "skip"
    }
   },
   "outputs": [],
   "source": [
    "# Импортируйте необходимые библиотеки:\n",
    "\n",
    "import numpy as np\n",
    "import matplotlib\n",
    "import matplotlib.pyplot as plt"
   ]
  },
  {
   "cell_type": "code",
   "execution_count": null,
   "metadata": {},
   "outputs": [],
   "source": [
    "# Настройте отображение графиков:\n",
    "\n",
    "from pylab import rcParams\n",
    "from matplotlib import rc\n",
    "\n",
    "rcParams['figure.figsize'] = 20, 12\n",
    "rc('font',**{'family':'DejaVu Sans Mono', 'size': 16})"
   ]
  },
  {
   "cell_type": "markdown",
   "metadata": {
    "slideshow": {
     "slide_type": "slide"
    }
   },
   "source": [
    "## Задание 2.1 (`snippet_2.ipynb`)\n",
    "\n",
    "Методом прямоугольников приближённо найдите площадь под кривой, заданной уравнением\n",
    "\n",
    "$$\n",
    "y = -x^3 + 20 x^2 + 30 x - 3\n",
    "$$\n",
    "\n",
    "на отрезке $x \\in [0; 20]$, с шагом дискретизации $h = 0,\\!001$."
   ]
  },
  {
   "cell_type": "code",
   "execution_count": null,
   "metadata": {},
   "outputs": [],
   "source": [
    "# Выполните задание 2.1 в этой ячейке\n",
    "\n"
   ]
  },
  {
   "cell_type": "markdown",
   "metadata": {
    "slideshow": {
     "slide_type": "slide"
    }
   },
   "source": [
    "## Задание 2.2\n",
    "\n",
    "Методом прямоугольников с шагом дискретизации $h = 10^{-6}$ приближённо найдите площадь под кривой\n",
    "\n",
    "$$\n",
    "y = \\sqrt{1 - x^2}\n",
    "$$\n",
    " &nbsp;\n",
    "\n",
    "Какое число получилось?"
   ]
  },
  {
   "cell_type": "code",
   "execution_count": null,
   "metadata": {},
   "outputs": [],
   "source": [
    "# Выполните задание 2.2 в этой ячейке\n",
    "\n"
   ]
  },
  {
   "cell_type": "markdown",
   "metadata": {
    "slideshow": {
     "slide_type": "slide"
    }
   },
   "source": [
    "## Задание 2.3\n",
    "\n",
    "Методом прямоугольников с шагом дискретизации $h = 0,\\!001$ вычислите площадь между кривыми $y=x^2$ и $y=4x-x^2$."
   ]
  },
  {
   "cell_type": "code",
   "execution_count": null,
   "metadata": {},
   "outputs": [],
   "source": [
    "# Выполните задание 2.3 в этой ячейке\n",
    "\n"
   ]
  }
 ],
 "metadata": {
  "kernelspec": {
   "display_name": "Python 3",
   "language": "python",
   "name": "python3"
  },
  "language_info": {
   "codemirror_mode": {
    "name": "ipython",
    "version": 3
   },
   "file_extension": ".py",
   "mimetype": "text/x-python",
   "name": "python",
   "nbconvert_exporter": "python",
   "pygments_lexer": "ipython3",
   "version": "3.7.4"
  },
  "livereveal": {
   "transition": "none"
  }
 },
 "nbformat": 4,
 "nbformat_minor": 2
}
